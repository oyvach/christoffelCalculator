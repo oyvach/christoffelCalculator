{
 "cells": [
  {
   "cell_type": "markdown",
   "id": "ce6e8e0a-0a54-4c9a-9257-edd1ff89ba37",
   "metadata": {},
   "source": [
    "# Find Christoffel symbols using sympy"
   ]
  },
  {
   "cell_type": "code",
   "execution_count": 1,
   "id": "e5675d14-4c1c-4300-9b14-deab2a9715d8",
   "metadata": {
    "tags": []
   },
   "outputs": [],
   "source": [
    "import numpy as np\n",
    "from sympy import *\n",
    "from tqdm import trange\n",
    "from IPython.core.interactiveshell import InteractiveShell\n",
    "InteractiveShell.ast_node_interactivity = 'all'\n",
    "init_printing()\n",
    "def Taylor_polynomial_sympy(function_expression, variable_list, evaluation_point, degree):\n",
    "    \"\"\"\n",
    "    Mathematical formulation reference:\n",
    "    https://math.libretexts.org/Bookshelves/Calculus/Supplemental_Modules_(Calculus)/Multivariable_Calculus/3%3A_Topics_in_Partial_Derivatives/Taylor__Polynomials_of_Functions_of_Two_Variables\n",
    "    :param function_expression: Sympy expression of the function\n",
    "    :param variable_list: list. All variables to be approximated (to be \"Taylorized\")\n",
    "    :param evaluation_point: list. Coordinates, where the function will be expressed\n",
    "    :param degree: int. Total degree of the Taylor polynomial\n",
    "    :return: Returns a Sympy expression of the Taylor series up to a given degree, of a given multivariate expression, approximated as a multivariate polynomial evaluated at the evaluation_point\n",
    "    \"\"\"\n",
    "    from sympy import factorial, Matrix, prod\n",
    "    import itertools\n",
    "\n",
    "    n_var = len(variable_list)\n",
    "    point_coordinates = [(i, j) for i, j in (zip(variable_list, evaluation_point))]  # list of tuples with variables and their evaluation_point coordinates, to later perform substitution\n",
    "\n",
    "    deriv_orders = list(itertools.product(range(degree + 1), repeat=n_var))  # list with exponentials of the partial derivatives\n",
    "    deriv_orders = [deriv_orders[i] for i in range(len(deriv_orders)) if sum(deriv_orders[i]) <= degree]  # Discarding some higher-order terms\n",
    "    n_terms = len(deriv_orders)\n",
    "    deriv_orders_as_input = [list(sum(list(zip(variable_list, deriv_orders[i])), ())) for i in range(n_terms)]  # Individual degree of each partial derivative, of each term\n",
    "\n",
    "    polynomial = 0\n",
    "    for i in range(n_terms):\n",
    "        partial_derivatives_at_point = function_expression.diff(*deriv_orders_as_input[i]).subs(point_coordinates)  # e.g. df/(dx*dy**2)\n",
    "        denominator = prod([factorial(j) for j in deriv_orders[i]])  # e.g. (1! * 2!)\n",
    "        distances_powered = prod([(Matrix(variable_list) - Matrix(evaluation_point))[j] ** deriv_orders[i][j] for j in range(n_var)])  # e.g. (x-x0)*(y-y0)**2\n",
    "        polynomial += partial_derivatives_at_point / denominator * distances_powered\n",
    "    return polynomial\n",
    "def flatten(l):\n",
    "    return [item for sublist in l for item in sublist]\n",
    "def unique(list1):\n",
    "    unique_list = []\n",
    "    for x in list1:\n",
    "        if x not in unique_list:\n",
    "            unique_list.append(x)\n",
    "    return unique_list\n",
    "def get_gamma_abc(rho,mu,nu,gamma,indices):\n",
    "    ind = -1\n",
    "    for i in range(len(indices)):\n",
    "        if '(%d_%d_%d)'%(rho,mu,nu) in indices[i]:\n",
    "            ind = i; break\n",
    "    if ind==-1: return 0\n",
    "    else: return gamma[ind]\n",
    "def dm(i,j,k):\n",
    "    return diff(metric[i][j],coor[k])\n",
    "def gamma(i,j,k):\n",
    "    s = 0\n",
    "    for l in range(4):\n",
    "        s+=0.5*metricI[i][l]*(dm(k,l,j)+dm(l,j,k)-dm(j,k,l))\n",
    "    s = s.subs(subdict)\n",
    "    # exploit that max quadratic degree\n",
    "    nexpand = len(expandlist)\n",
    "    for v in range(nexpand):\n",
    "        for w in range(v):\n",
    "            s = Taylor_polynomial_sympy(s,[expandlist[v],expandlist[w]],\n",
    "                                        [originlist[v],originlist[w]],order)\n",
    "    return simplify(nsimplify((s))).expand()"
   ]
  },
  {
   "cell_type": "code",
   "execution_count": 2,
   "id": "911f50ca-d84f-4d5f-8a50-aa4395b5bdbf",
   "metadata": {},
   "outputs": [],
   "source": [
    "######## MENU ##################\n",
    "conformaltime = 1\n",
    "metricchoice  = dict({1:'flrw',2:'psiphi',\n",
    "                      3:'wB',4:'full'})[2]\n",
    "order = 1\n",
    "################################"
   ]
  },
  {
   "cell_type": "code",
   "execution_count": 3,
   "id": "c0ee89c2-9b56-4e98-9a68-2c282e0dfddb",
   "metadata": {},
   "outputs": [],
   "source": [
    "# initialise\n",
    "foundInverse=(metricchoice!='wB' and metricchoice!='full')\n",
    "t,x,y,z = symbols(\"t x y z\")\n",
    "coor = [t,x,y,z]\n",
    "psi,phi,aH, a = symbols('Psi Phi \\mathcal{H} a') # not functions\n",
    "af = Function('a',real=True)\n",
    "psif = Function(\"Psi\",real=True)\n",
    "phif = Function(\"Phi\",real=True)\n",
    "dkpsif,dkpsi = [],[]\n",
    "dkphif,dkphi = [],[]\n",
    "for i in range(4):\n",
    "    dkphi.append(symbols('\\partial_{%s}\\Phi'%coor[i]))\n",
    "    dkpsi.append(symbols('\\partial_{%s}\\Psi'%coor[i]))\n",
    "    dkpsif.append(psif(*coor).diff(coor[i]))\n",
    "    dkphif.append(phif(*coor).diff(coor[i]))\n",
    "# fix vector and tensor\n",
    "Bi = symbols('B1 B2 B3')\n",
    "Bif= []\n",
    "dBi= [[],[],[]]\n",
    "dkBif=[[],[],[]]\n",
    "dkBi =[[],[],[]]\n",
    "hij = []\n",
    "hijf=[[],[],[]]\n",
    "dkhij =[[[],[],[]],[[],[],[]],[[],[],[]]]\n",
    "dkhijf=[[[],[],[]],[[],[],[]],[[],[],[]]]\n",
    "for i in range(1,4):\n",
    "    hij += [list(symbols('h%d1 h%d2 h%d3'%(i,i,i)))]\n",
    "    for j in range(1,4):\n",
    "        if (j>=i):\n",
    "            hijf[i-1]+=[Function(\"h_%d%d\"%(i,j),real=True)]\n",
    "        else:\n",
    "            hijf[i-1]+=[Function(\"h_%d%d\"%(j,i),real=True)]\n",
    "        for k in range(1,5):\n",
    "            if (j>=i):\n",
    "                dkhijf[i-1][j-1].append(hijf[i-1][j-1](*coor).diff(coor[k-1]))\n",
    "                dkhij[i-1][j-1].append(symbols('\\partial_%sh_{%d%d}' % (coor[k-1],i,j)))\n",
    "            else:\n",
    "                dkhijf[i-1][j-1].append(hijf[j-1][i-1](*coor).diff(coor[k-1]))\n",
    "                dkhij[i-1][j-1].append(symbols('\\partial_%sh_{%d%d}' % (coor[k-1],j,i)))\n",
    "    Bif += [Function(\"B_%d\"%i,real=True)]\n",
    "    for k in range(1,5):\n",
    "        dkBif[i-1].append(Bif[i-1](*coor).diff(coor[k-1]))\n",
    "        dkBi[i-1].append(symbols('\\partial_%sB_{%d}'%(coor[k-1],i)))\n",
    "                  \n",
    "expandlist = [phi,psi,*dkphi,*dkpsi]\n",
    "if (not foundInverse): expandlist+=[*Bi,*flatten(dkBi)]\n",
    "if (metricchoice=='full'): expandlist+=flatten(hij)\n",
    "if (metricchoice=='full'): expandlist+=flatten(flatten(dkhij))\n",
    "expandlist = unique(expandlist)\n",
    "originlist =  [0]*len(expandlist)\n",
    "subdict = {psif(*coor):psi,phif(*coor):phi, af(t):a}\n",
    "if (conformaltime>0):\n",
    "    subdict[af(t).diff(t)] = aH*a\n",
    "else:\n",
    "    subdict[af(t).diff(t)] = aH\n",
    "sflist = [*dkpsif,*dkphif,*flatten(dkBif),*flatten(flatten(dkhijf))]\n",
    "slist  = [*dkpsi ,*dkphi ,*flatten(dkBi ),*flatten(flatten(dkhij ))]\n",
    "for i in range(3):\n",
    "    subdict[Bif[i](*coor)] = Bi[i]\n",
    "    for j in range(3):\n",
    "        subdict[hijf[i][j](*coor)] = hij[i][j]\n",
    "for i in range(len(sflist)):\n",
    "    subdict[sflist[i]] = slist[i]\n",
    "\n",
    "if (metricchoice=='full'):\n",
    "    metric = [[af(t)**(2*conformaltime)*(-1-2*psif(*coor)),-af(t)**(1+conformaltime)*Bif[0](*coor),-af(t)**(1+conformaltime)*Bif[1](*coor),-af(t)**(1+conformaltime)*Bif[2](*coor)],\n",
    "                [-af(t)**(1+conformaltime)*Bif[0](*coor),af(t)**2*(1-2*phif(*coor)+hijf[0][0](*coor)),af(t)**2*hijf[0][1](*coor),af(t)**2*hijf[0][2](*coor)],\n",
    "                [-af(t)**(1+conformaltime)*Bif[1](*coor),af(t)**2*hijf[1][0](*coor),af(t)**2*(1-2*phif(*coor)+hijf[1][1](*coor)),af(t)**2*hijf[1][2](*coor)],\n",
    "                [-af(t)**(1+conformaltime)*Bif[2](*coor),af(t)**2*hijf[2][0](*coor),af(t)**2*hijf[2][1](*coor),af(t)**2*(1-2*phif(*coor)+hijf[2][2](*coor))]]\n",
    "    metricI = [[af(t)**(-2*conformaltime)*(-1+2*psif(*coor)),-af(t)**(-1-conformaltime)*Bif[0](*coor),-af(t)**(-1-conformaltime)*Bif[1](*coor),-af(t)**(-1-conformaltime)*Bif[2](*coor)],\n",
    "                [-af(t)**(-1-conformaltime)*Bif[0](*coor),af(t)**-2*(1+2*phif(*coor)-hijf[0][0](*coor)),-af(t)**-2*hijf[0][1](*coor),-af(t)**-2*hijf[0][2](*coor)],\n",
    "                [-af(t)**(-1-conformaltime)*Bif[1](*coor),-af(t)**-2*hijf[1][0](*coor),af(t)**-2*(1+2*phif(*coor)-hijf[1][1](*coor)),-af(t)**-2*hijf[1][2](*coor)],\n",
    "                [-af(t)**(-1-conformaltime)*Bif[2](*coor),-af(t)**-2*hijf[2][0](*coor),-af(t)**-2*hijf[2][1](*coor),af(t)**-2*(1+2*phif(*coor)-hijf[2][2](*coor))]]\n",
    "elif (metricchoice=='wB'):\n",
    "    metric = [[af(t)**(2*conformaltime)*(-1-2*psif(*coor)),-af(t)**(1+conformaltime)*Bif[0](*coor),-af(t)**(1+conformaltime)*Bif[1](*coor),-af(t)**(1+conformaltime)*Bif[2](*coor)],\n",
    "                [-af(t)**(1+conformaltime)*Bif[0](*coor),af(t)**2*(1-2*phif(*coor)),0,0],\n",
    "                [-af(t)**(1+conformaltime)*Bif[1](*coor),0,af(t)**2*(1-2*phif(*coor)),0],\n",
    "                [-af(t)**(1+conformaltime)*Bif[2](*coor),0,0,af(t)**2*(1-2*phif(*coor))]]\n",
    "    metricI= [[af(t)**(-2*conformaltime)*(-1+2*psif(*coor)),-af(t)**(-1-conformaltime)*Bif[0](*coor),-af(t)**(-1-conformaltime)*Bif[1](*coor),-af(t)**(-1-conformaltime)*Bif[2](*coor)],\n",
    "                [-af(t)**(-1-conformaltime)*Bif[0](*coor),af(t)**-2*(1+2*phif(*coor)),0,0],\n",
    "                [-af(t)**(-1-conformaltime)*Bif[1](*coor),0,af(t)**-2*(1+2*phif(*coor)),0],\n",
    "                [-af(t)**(-1-conformaltime)*Bif[2](*coor),0,0,af(t)**-2*(1+2*phif(*coor))]]\n",
    "elif (metricchoice=='psiphi'):\n",
    "    metric = [[af(t)**(2*conformaltime)*(-1-2*psif(*coor)),0,0,0],\n",
    "                [0,af(t)**2*(1-2*phif(*coor)),0,0],\n",
    "                [0,0,af(t)**2*(1-2*phif(*coor)),0],\n",
    "                [0,0,0,af(t)**2*(1-2*phif(*coor))]]\n",
    "    metricI= [[af(t)**(-2*conformaltime)*(-1+2*psif(*coor)),0,0,0],\n",
    "                [0,af(t)**-2*(1+2*phif(*coor)),0,0],\n",
    "                [0,0,af(t)**-2*(1+2*phif(*coor)),0],\n",
    "                [0,0,0,af(t)**-2*(1+2*phif(*coor))]]\n",
    "elif (metricchoice=='flrw'):\n",
    "    metric = [[-af(t)**(2*conformaltime),0,0,0],\n",
    "                [0,af(t)**2,0,0],\n",
    "                [0,0,af(t)**2,0],\n",
    "                [0,0,0,af(t)**2]]"
   ]
  },
  {
   "cell_type": "code",
   "execution_count": 4,
   "id": "2fc5e1a0-0266-4f0a-a3b7-b88d8554afa6",
   "metadata": {},
   "outputs": [
    {
     "name": "stderr",
     "output_type": "stream",
     "text": [
      "100%|██████████████████████████████████████████████████████████████████████████████████████████| 4/4 [00:03<00:00,  1.12it/s]\n"
     ]
    }
   ],
   "source": [
    "# find christoffel symbols\n",
    "chris = []\n",
    "chris_inds = []\n",
    "\n",
    "for ac in trange(4):\n",
    "    for b in range(4):\n",
    "        for c in range(4):\n",
    "            res = gamma(ac,b,c)\n",
    "            if res==0: pass\n",
    "            else:\n",
    "                chris.append(res)     \n",
    "                chris_inds.append([\"(%d_%d_%d)\"%(ac,b,c)])   "
   ]
  },
  {
   "cell_type": "code",
   "execution_count": 22,
   "id": "4ab801f9-7a60-4127-bc54-ad59bdbba738",
   "metadata": {},
   "outputs": [
    {
     "data": {
      "image/png": "[encoded data removed]",
      "text/latex": [
       "$\\displaystyle 4 \\mathcal{H} - 3 \\partial_{t}\\Phi + \\partial_{t}\\Psi$"
      ],
      "text/plain": [
       "4⋅\\mathcal{H} - 3⋅\\partial_{t}\\Phi + \\partial_{t}\\Psi"
      ]
     },
     "execution_count": 22,
     "metadata": {},
     "output_type": "execute_result"
    },
    {
     "data": {
      "image/png": "[encoded data removed]",
      "text/latex": [
       "$\\displaystyle - 3 \\partial_{x}\\Phi + \\partial_{x}\\Psi$"
      ],
      "text/plain": [
       "-3⋅\\partial_{x}\\Phi + \\partial_{x}\\Psi"
      ]
     },
     "execution_count": 22,
     "metadata": {},
     "output_type": "execute_result"
    }
   ],
   "source": [
    "# check result and save\n",
    "#get_gamma_abc(0,1,1,chris,chris_inds)\n",
    "# find the traces\n",
    "trace0 = 0\n",
    "trace1 = 0\n",
    "cntr0  = 0\n",
    "for i in range(0,4):\n",
    "    trace0 += get_gamma_abc(i,0,i,chris,chris_inds)\n",
    "    trace1 += get_gamma_abc(i,1,i,chris,chris_inds)\n",
    "    for j in range(4):\n",
    "        cntr0+=metricI[i][j]*get_gamma_abc(0,i,j,chris,chris_inds)\n",
    "cntr0 = cntr0.subs(subdict)\n",
    "trace0#.expand()\n",
    "trace1#.expand()\n",
    "#cntr0\n",
    "if False:\n",
    "    if (conformaltime==0): np.save('christoffel_cosmic_full',np.asanyarray([chris,chris_inds],dtype=object))\n",
    "    else: np.save('christoffel_conformal_full',np.asanyarray([chris,chris_inds],dtype=object))"
   ]
  },
  {
   "cell_type": "code",
   "execution_count": 24,
   "id": "903f38f9-6b13-4eb6-be1d-d1fb841d33a2",
   "metadata": {},
   "outputs": [
    {
     "data": {
      "image/png": "[encoded data removed]",
      "text/latex": [
       "$\\displaystyle \\mathcal{H} + \\frac{\\partial_th_{11}}{2} - \\partial_{t}\\Phi$"
      ],
      "text/plain": [
       "              \\partial_th_{11}                   \n",
       "\\mathcal{H} + ──────────────── - \\partial_{t}\\Phi\n",
       "                     2                           "
      ]
     },
     "execution_count": 24,
     "metadata": {},
     "output_type": "execute_result"
    },
    {
     "data": {
      "image/png": "[encoded data removed]",
      "text/latex": [
       "$\\displaystyle \\mathcal{H} + \\frac{\\partial_th_{22}}{2} - \\partial_{t}\\Phi$"
      ],
      "text/plain": [
       "              \\partial_th_{22}                   \n",
       "\\mathcal{H} + ──────────────── - \\partial_{t}\\Phi\n",
       "                     2                           "
      ]
     },
     "execution_count": 24,
     "metadata": {},
     "output_type": "execute_result"
    },
    {
     "data": {
      "image/png": "[encoded data removed]",
      "text/latex": [
       "$\\displaystyle \\frac{\\partial_th_{13}}{2} + \\frac{\\partial_xB_{3}}{2} - \\frac{\\partial_zB_{1}}{2}$"
      ],
      "text/plain": [
       "\\partial_th_{13}   \\partial_xB_{3}   \\partial_zB_{1}\n",
       "──────────────── + ─────────────── - ───────────────\n",
       "       2                  2                 2       "
      ]
     },
     "execution_count": 24,
     "metadata": {},
     "output_type": "execute_result"
    }
   ],
   "source": [
    "chris, chris_inds = np.load('christoffel_conformal_full.npy',allow_pickle=True)\n",
    "get_gamma_abc(1,0,1,chris,chris_inds)\n",
    "get_gamma_abc(2,0,2,chris,chris_inds)\n",
    "get_gamma_abc(1,0,3,chris,chris_inds)"
   ]
  }
 ],
 "metadata": {
  "kernelspec": {
   "display_name": "Python 3 (ipykernel)",
   "language": "python",
   "name": "python3"
  },
  "language_info": {
   "codemirror_mode": {
    "name": "ipython",
    "version": 3
   },
   "file_extension": ".py",
   "mimetype": "text/x-python",
   "name": "python",
   "nbconvert_exporter": "python",
   "pygments_lexer": "ipython3",
   "version": "3.8.5"
  }
 },
 "nbformat": 4,
 "nbformat_minor": 5
}
